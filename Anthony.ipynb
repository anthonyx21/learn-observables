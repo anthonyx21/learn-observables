{
 "cells": [
  {
   "cell_type": "code",
   "execution_count": 1,
   "metadata": {
    "collapsed": false
   },
   "outputs": [],
   "source": [
    "var rp = require('request-promise');\n",
    "const Rx = require('rxjs/Rx');\n",
    "var RxHttp = require('node-rx-http');\n",
    "\n",
    "\n",
    "\n",
    "\n",
    "//Rx.Observable.http({url:'http://www.google.com'}).subscribe(result=>console.log(result));\n"
   ]
  },
  {
   "cell_type": "code",
   "execution_count": 2,
   "metadata": {
    "collapsed": false,
    "scrolled": false
   },
   "outputs": [
    {
     "name": "stdout",
     "output_type": "stream",
     "text": [
      "lets do it\n"
     ]
    }
   ],
   "source": [
    "rp('http://jsonplaceholder.typicode.com/posts/1')\n",
    "    .then(function (htmlString) {\n",
    "        // Process html...\n",
    "        console.log(htmlString);\n",
    "    })\n",
    "    .catch(function (err) {\n",
    "        // Crawling failed...\n",
    "        console.log(err);\n",
    "    });\n",
    "\n",
    "console.log(\"lets do it\");"
   ]
  },
  {
   "cell_type": "code",
   "execution_count": 3,
   "metadata": {
    "collapsed": false
   },
   "outputs": [
    {
     "name": "stdout",
     "output_type": "stream",
     "text": [
      "here we go\n"
     ]
    }
   ],
   "source": [
    "var BASE_URL = \"http://jsonplaceholder.typicode.com/\";\n",
    "var postsToRetrieve = [1,2,3,4,5,6,7]\n",
    "\n",
    "\n",
    "var urlsToHit = postsToRetrieve.map(postId=> BASE_URL + \"posts/\" + postId);\n",
    "\n",
    "var observables = urlsToHit.map(url=>RxHttp.get(url).map(result=>result.body))\n",
    "// or \n",
    "// var observables = postsToRetrieve.map(postId=> RxHttp.get(BASE_URL + \"posts/\" + postId).map(result=>result.body))\n",
    "\n",
    "\n",
    "// do in sequence\n",
    "Rx.Observable.concat(...observables)\n",
    "    .subscribe(res=>console.log(res));\n",
    "\n",
    "// do concurrently, show responses as they come\n",
    "Rx.Observable.merge(...observables)\n",
    "    .subscribe(res=>console.log(res));\n",
    "\n",
    "// do concurrently, wait for all to return\n",
    "Rx.Observable.forkJoin(...observables)\n",
    "    .subscribe(res=>console.log(res));\n",
    "\n",
    "\n",
    "\n",
    "observables[0].flatMap(result=>{\n",
    "    console.log(result);\n",
    "    return observables[1]\n",
    "}).subscribe(result=>{\n",
    "    console.log(result);\n",
    "})\n",
    "\n",
    "console.log(\"here we go\")"
   ]
  },
  {
   "cell_type": "code",
   "execution_count": 4,
   "metadata": {
    "collapsed": false
   },
   "outputs": [],
   "source": [
    "// http://stackoverflow.com/questions/28315026/rxjs-how-can-i-do-an-if-with-observables\n",
    "\n",
    "// secondState\n",
    "//     .pausable(firstState.map(function (s) { return s !== undefined; }))\n",
    "//     .subscribe(function (second) {\n",
    "//         // only occurs when first is truthy\n",
    "//     });"
   ]
  },
  {
   "cell_type": "code",
   "execution_count": 5,
   "metadata": {
    "collapsed": false
   },
   "outputs": [],
   "source": [
    "// https://blog.thoughtram.io/angular/2016/01/07/taking-advantage-of-observables-in-angular2-pt2.html\n",
    "// https://blog.thoughtram.io/angular/2016/11/28/testing-services-with-http-in-angular-2.html"
   ]
  },
  {
   "cell_type": "code",
   "execution_count": 6,
   "metadata": {
    "collapsed": false
   },
   "outputs": [
    {
     "name": "stdout",
     "output_type": "stream",
     "text": [
      "[ 1, 23, 4, 5, 6, 44, 223 ]\n",
      "[ 1, 23, 4, 5, 6, 44, 223 ]\n",
      "here we go\n"
     ]
    }
   ],
   "source": [
    "var url = \"http://jsonplaceholder.typicode.com/posts/1\";\n",
    "\n",
    "\n",
    "var observable = Rx.Observable.of([1,23,4,5,6,44,223]);\n",
    "\n",
    "// var observable = RxHttp.get(url).debounceTime(5000).map(result=>result.body)\n",
    "\n",
    "\n",
    "observable.subscribe(result=>console.log(result));\n",
    "observable.subscribe(result=>console.log(result));\n",
    "\n",
    "console.log(\"here we go\")"
   ]
  },
  {
   "cell_type": "code",
   "execution_count": 7,
   "metadata": {
    "collapsed": false
   },
   "outputs": [
    {
     "name": "stdout",
     "output_type": "stream",
     "text": [
      "Accumulated total: 0\n",
      "Accumulated total: 1\n",
      "Accumulated total: 3\n",
      "Accumulated total: 6\n"
     ]
    }
   ],
   "source": [
    "\n",
    "\n",
    "var subject2 = new Rx.Subject();\n",
    "//basic scan example, sum over time starting with zero\n",
    "var example2 = subject2\n",
    "  .startWith(0)\n",
    "  .scan((acc, curr) => acc + curr);\n",
    "//log accumulated values\n",
    "var subscribe2 = example2.subscribe(val => console.log('Accumulated total:', val));\n",
    "//next values into subject, adding to the current sum\n",
    "subject2.next(1); //1\n",
    "subject2.next(2); //3\n",
    "subject2.next(3); //6"
   ]
  },
  {
   "cell_type": "code",
   "execution_count": 8,
   "metadata": {
    "collapsed": false
   },
   "outputs": [],
   "source": [
    "var source = Rx.Observable.timer(1000, 2000).debounceTime(1500);\n",
    "//output: 0,1,2,3,4,5......\n",
    "var subscribe = source.subscribe(val => console.log(val));"
   ]
  },
  {
   "cell_type": "code",
   "execution_count": 10,
   "metadata": {
    "collapsed": false
   },
   "outputs": [
    {
     "name": "stdout",
     "output_type": "stream",
     "text": [
      "1s won!\n",
      "2\n",
      "1s won!\n",
      "1s won!\n",
      "1s won!\n",
      "1s won!\n",
      "3\n",
      "1s won!\n",
      "1s won!\n",
      "1s won!\n",
      "1s won!\n",
      "4\n",
      "1s won!\n",
      "1s won!\n",
      "1s won!\n",
      "1s won!\n",
      "5\n",
      "1s won!\n",
      "1s won!\n",
      "1s won!\n",
      "1s won!\n",
      "6\n",
      "1s won!\n",
      "1s won!\n",
      "1s won!\n",
      "1s won!\n",
      "7\n",
      "1s won!\n",
      "1s won!\n",
      "1s won!\n",
      "1s won!\n",
      "8\n",
      "1s won!\n",
      "1s won!\n",
      "1s won!\n",
      "1s won!\n",
      "9\n",
      "1s won!\n",
      "1s won!\n",
      "1s won!\n",
      "1s won!\n",
      "10\n",
      "1s won!\n",
      "1s won!\n",
      "1s won!\n",
      "1s won!\n",
      "11\n",
      "1s won!\n",
      "1s won!\n",
      "1s won!\n",
      "1s won!\n",
      "12\n",
      "1s won!\n",
      "1s won!\n",
      "1s won!\n",
      "1s won!\n",
      "13\n",
      "1s won!\n",
      "1s won!\n",
      "1s won!\n",
      "1s won!\n",
      "14\n",
      "1s won!\n",
      "1s won!\n",
      "1s won!\n",
      "1s won!\n"
     ]
    }
   ],
   "source": [
    "//take the first observable to emit\n",
    "var example = Rx.Observable.race(\n",
    "  //emit every 1.5s\n",
    "  Rx.Observable.interval(1500),\n",
    "  //emit every 1s\n",
    "  Rx.Observable.interval(1000).mapTo('1s won!'),\n",
    "  //emit every 2s\n",
    "  Rx.Observable.interval(2000),\n",
    "  //emit every 2.5s\n",
    "  Rx.Observable.interval(2500)\n",
    ");\n",
    "//output: \"1s won!\"...\"1s won!\"...etc\n",
    "var subscribe = example.subscribe(val => console.log(val));"
   ]
  },
  {
   "cell_type": "code",
   "execution_count": null,
   "metadata": {
    "collapsed": true
   },
   "outputs": [],
   "source": []
  },
  {
   "cell_type": "code",
   "execution_count": null,
   "metadata": {
    "collapsed": true
   },
   "outputs": [],
   "source": []
  }
 ],
 "metadata": {
  "anaconda-cloud": {},
  "kernelspec": {
   "display_name": "Javascript (Node.js)",
   "language": "javascript",
   "name": "javascript"
  },
  "language_info": {
   "file_extension": ".js",
   "mimetype": "application/javascript",
   "name": "javascript",
   "version": "7.9.0"
  }
 },
 "nbformat": 4,
 "nbformat_minor": 1
}
